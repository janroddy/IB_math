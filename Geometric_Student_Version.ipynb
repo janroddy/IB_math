{
 "cells": [
  {
   "cell_type": "markdown",
   "metadata": {},
   "source": [
    "<h1 style= padding:10px>Geometric Sequences:</h1>\n",
    "<div>\n",
    "\t<ul>\n",
    "        <li>In an <b>geometric sequence</b> you can find each term by multiplying the preceding term by a <b>common ratio</b></li>\n",
    "        <li> The first term is represented by $U_{1}$, (we will use u_1 in our code).</li>\n",
    "\t</ul>\n",
    "</div>\t\n",
    "\n",
    "<div>\n",
    "<h3>The formula for the nth term of a geometric sequence is: </h3>\n",
    "$U_{n} = U_{1} r^{n-1}$\n",
    "</div> "
   ]
  },
  {
   "cell_type": "markdown",
   "metadata": {},
   "source": [
    "<div style=\"background-color: #BCDBF5 ; padding: 10px;\">\n",
    "<h2>Instructions:</h2>\n",
    "\n",
    "<ol>\n",
    "\t<li>Take a look at our function stub on line 5 what is our function's name and what are the arguments that we will be passing in? If you're not sure talk to a classmate.</li>\n",
    "  <li>Go to line 6 program the formula to return the nth term in the geometric series after the return keyword.</li>\n",
    "  <li>Run the cell, check the output and check your work on paper for u_1 = 2, r=3, and n=5.</li>\n",
    "</ol>\n",
    "\n",
    "</div>\n",
    "\n",
    "\n",
    "<table align=\"left\">\n",
    "  <tr>\n",
    "    <th>Operator</th>\n",
    "    <th>Python Operator</th>\n",
    "    <th>Example</th>\n",
    "  </tr>\n",
    "  <tr>\n",
    "    <td>Addition</td>\n",
    "    <td>+</td>\n",
    "    <td>8 + 8 =16</td>\n",
    "  </tr>\n",
    "  <tr>\n",
    "    <td>Subtraction</td>\n",
    "    <td>-</td>\n",
    "    <td>10 - 5 = 5</td>\n",
    "  </tr>\n",
    "  <tr>\n",
    "    <td>Multiplication</td>\n",
    "    <td>*</td>\n",
    "    <td>8 * 8 = 64</td>\n",
    "  </tr>\n",
    "  <tr>\n",
    "    <td>Division</td>\n",
    "    <td>/</td>\n",
    "    <td>8 / 2 = 2</td>\n",
    "  </tr>\n",
    "  <tr>\n",
    "    <td>Exponent</td>\n",
    "    <td>**</td>\n",
    "    <td>4**2 = 16</td>  \n",
    "  </tr>\n",
    "</table>"
   ]
  },
  {
   "cell_type": "code",
   "execution_count": 26,
   "metadata": {},
   "outputs": [
    {
     "name": "stdout",
     "output_type": "stream",
     "text": [
      "None\n"
     ]
    }
   ],
   "source": [
    "#returns the nth term in a geometric series        \n",
    "#u_1: first term in the sequence \n",
    "#r: common ratio\n",
    "#n: the number of the term to return \n",
    "def nth_term_geo_sequence(u_1, r, n):\n",
    "    return \n",
    "\n",
    "s_n = nth_term_geo_sequence(2, 3, 5)\n",
    "print(s_n)"
   ]
  },
  {
   "cell_type": "markdown",
   "metadata": {},
   "source": [
    "## data types floats and rounding \n",
    "\n",
    "<div style =\"padding: 10px\">\n",
    "<h3>A formula for the sum to n terms of a geometric sequence is:  </h3>\n",
    "$S_{n} = \\frac{U_{1}(r^{n}-1)}{r-1} $   \n",
    "</div> \n",
    "\n",
    "<div style=\"background-color: #BCDBF5 ; padding: 10px;\">\n",
    "<h2>Instructions:</h2>\n",
    "\n",
    "<ol>\n",
    "  <li>Go to line 8 and add the parameters u_1 = 6, r= 1/3, and n = 10</li>\n",
    "  <li>Run the cell, check the output and check your work on paper for u_1 = 2, r=3, and n=5. What is different in our output this time? Look at the code on lines 8-12 and try to figure out what each line doing. Talk with a classmate about what you think is going on.</li>\n",
    "  <li>How can we get such variation between different print statements for the same value? Think about the difference between different data types and how Python is treating the differently.</li>\n",
    "</ol>\n",
    "\n",
    "</div>\n"
   ]
  },
  {
   "cell_type": "code",
   "execution_count": 27,
   "metadata": {},
   "outputs": [
    {
     "ename": "TypeError",
     "evalue": "sum_up_to_n_geo() missing 3 required positional arguments: 'u_1', 'r', and 'n'",
     "output_type": "error",
     "traceback": [
      "\u001b[0;31m---------------------------------------------------------------------------\u001b[0m",
      "\u001b[0;31mTypeError\u001b[0m                                 Traceback (most recent call last)",
      "\u001b[0;32m<ipython-input-27-9e5968469082>\u001b[0m in \u001b[0;36m<module>\u001b[0;34m\u001b[0m\n\u001b[1;32m      6\u001b[0m     \u001b[0;32mreturn\u001b[0m \u001b[0;34m(\u001b[0m\u001b[0mu_1\u001b[0m\u001b[0;34m*\u001b[0m \u001b[0;34m(\u001b[0m\u001b[0mr\u001b[0m\u001b[0;34m**\u001b[0m\u001b[0mn\u001b[0m\u001b[0;34m-\u001b[0m\u001b[0;36m1\u001b[0m\u001b[0;34m)\u001b[0m\u001b[0;34m)\u001b[0m \u001b[0;34m/\u001b[0m \u001b[0;34m(\u001b[0m\u001b[0mr\u001b[0m \u001b[0;34m-\u001b[0m \u001b[0;36m1\u001b[0m\u001b[0;34m)\u001b[0m\u001b[0;34m\u001b[0m\u001b[0m\n\u001b[1;32m      7\u001b[0m \u001b[0;34m\u001b[0m\u001b[0m\n\u001b[0;32m----> 8\u001b[0;31m \u001b[0ms_n\u001b[0m \u001b[0;34m=\u001b[0m \u001b[0msum_up_to_n_geo\u001b[0m\u001b[0;34m(\u001b[0m\u001b[0;34m)\u001b[0m\u001b[0;34m\u001b[0m\u001b[0m\n\u001b[0m\u001b[1;32m      9\u001b[0m \u001b[0mprint\u001b[0m \u001b[0;34m(\u001b[0m\u001b[0ms_n\u001b[0m\u001b[0;34m)\u001b[0m\u001b[0;34m\u001b[0m\u001b[0m\n\u001b[1;32m     10\u001b[0m \u001b[0mprint\u001b[0m\u001b[0;34m(\u001b[0m\u001b[0mint\u001b[0m\u001b[0;34m(\u001b[0m\u001b[0ms_n\u001b[0m\u001b[0;34m)\u001b[0m\u001b[0;34m)\u001b[0m\u001b[0;34m\u001b[0m\u001b[0m\n",
      "\u001b[0;31mTypeError\u001b[0m: sum_up_to_n_geo() missing 3 required positional arguments: 'u_1', 'r', and 'n'"
     ]
    }
   ],
   "source": [
    "#returns the sum of a geometric sequence up to the nth term \n",
    "#u_1: first term in the sequence \n",
    "#r: common ratio\n",
    "#n: the number of the terms to sum\n",
    "def sum_up_to_n_geo(u_1, r, n):\n",
    "    return (u_1* (r**n-1)) / (r - 1)\n",
    "\n",
    "s_n = sum_up_to_n_geo()\n",
    "print (s_n)\n",
    "print(int(s_n)) \n",
    "print(round(s_n, 4))\n",
    "print(round(s_n, 0))"
   ]
  },
  {
   "cell_type": "markdown",
   "metadata": {},
   "source": [
    "<h1 style= padding:10px>Geometric Sequences:</h1>\n",
    "<div>\n",
    "\t<ul>\n",
    "        <li>In an <b>geometric sequence</b> you can find each term by multiplying the preceding term by a <b>common ratio</b></li>\n",
    "        <li> The first term is represented by $U_{1}$, (we will use u_1 in our code).</li>\n",
    "\t</ul>\n",
    "</div>\t\n",
    "\n",
    "\n",
    "\n",
    "\n",
    "\n",
    "\n",
    "\n",
    "<div>\n",
    "<h3>Another way to write the formula for the sum to n terms of a geometric sequence is:  </h3>\n",
    "<p style = \"padding: 10px\">$S_{n} = \\frac{U_{1}(1-r^{n})}{1-r} $  </p>\n",
    "</div> \n",
    "\n",
    "\n",
    "\n",
    "<div style=\"background-color: #BCDBF5 ; padding: 10px;\">\n",
    "<h2>Instructions:</h2>\n",
    "\n",
    "<ol>\n",
    "\t<li>Finish the function on line 6, using the formula above.</li>\n",
    "  <li>Go to line 8 and assign s_n = to a function call (don't forget the \"2\" in the function name) on the u_1 = 2, r=3, and n=5.  Check your output to make sure it's the same as the last function sum_up_to_n_geo. </li>\n",
    "  <li>Don't forget to print the value on line 9.</li>\n",
    "  <li>How can we get such variation between different print statements for the same value? Think about the difference between different data types and how Python is treating the differently.</li>\n",
    "</ol>\n",
    "\n",
    "</div>\n",
    "\n",
    "\n",
    "\n",
    "\n",
    "\n",
    "\n",
    "\n",
    "\n",
    "\n",
    "\n",
    "\n",
    "\n",
    "\n",
    "\n",
    "\n",
    "\n",
    "\n"
   ]
  },
  {
   "cell_type": "code",
   "execution_count": 28,
   "metadata": {},
   "outputs": [
    {
     "ename": "SyntaxError",
     "evalue": "invalid syntax (<ipython-input-28-e54dd140cedc>, line 8)",
     "output_type": "error",
     "traceback": [
      "\u001b[0;36m  File \u001b[0;32m\"<ipython-input-28-e54dd140cedc>\"\u001b[0;36m, line \u001b[0;32m8\u001b[0m\n\u001b[0;31m    s_n =\u001b[0m\n\u001b[0m         ^\u001b[0m\n\u001b[0;31mSyntaxError\u001b[0m\u001b[0;31m:\u001b[0m invalid syntax\n"
     ]
    }
   ],
   "source": [
    "#u_1 = first term \n",
    "#u_n = last term \n",
    "#n = number of terms \n",
    "#returns the sum of a geometric sequence up to the nth term \n",
    "def sum_up_to_n_geo2(u_1, r, n):\n",
    "    return\n",
    "\n",
    "s_n ="
   ]
  },
  {
   "cell_type": "markdown",
   "metadata": {},
   "source": [
    "<h1 style= padding:10px>Printing a Geometric Sequence:</h1>\n",
    "<div>\n",
    "\t<h3>The formula for the nth term of a geometric sequence is: $U_{n} = U_{1} r^{n-1}$ </h3>\n",
    "\t<ul>\n",
    "\t\t<li>$U_{1} = U_{1} r^{1-1}$</li>\n",
    "\t\t<li>$U_{2} = U_{1} r^{2-1}$</li>\n",
    "\t\t<li>$U_{3} = U_{1} r^{3-1}$</li>\n",
    "        <li>...</li>\n",
    "        <li>$U_{n} = U_{1} r^{n-1}$</li>\n",
    "\t</ul>\n",
    "\n",
    "</div> "
   ]
  },
  {
   "cell_type": "markdown",
   "metadata": {},
   "source": [
    "<div style=\"background-color: #BCDBF5 ; padding: 10px;\">\n",
    "<h2>Instructions:</h2>\n",
    "\n",
    "<ol>\n",
    " <li>This cell bellow contains a code to output the first 4 terms of a geometric sequence. Take a look at the code and then run the cell.</li> \n",
    " \t<li>On line 12 write a print statement to output the 5th term.  Notice that we are starting with 0, so you will want to use 4 for the exponent. Talk with a classmate about why we are starting to count by 0 in this case. *side-note: In Computer Science we generally start counting with 0 instead of 1.</li>\n",
    "</ol>\n",
    "\n",
    "</div\n"
   ]
  },
  {
   "cell_type": "code",
   "execution_count": 29,
   "metadata": {},
   "outputs": [
    {
     "name": "stdout",
     "output_type": "stream",
     "text": [
      "2 6 18 54 "
     ]
    }
   ],
   "source": [
    "#u_1 = first term in sequence\n",
    "# r = common ratio\n",
    "# n = number of terms  \n",
    "\n",
    "u_1 = 2\n",
    "r = 3\n",
    "\n",
    "print (u_1 * r ** (0) , end= \" \")\n",
    "print (u_1 * r ** (1) , end= \" \")\n",
    "print (u_1 * r ** (2) , end= \" \")\n",
    "print (u_1 * r ** (3) , end= \" \")\n",
    "#print the 5th term here\n"
   ]
  },
  {
   "cell_type": "markdown",
   "metadata": {},
   "source": [
    "<div style=\"background-color: #BCDBF5 ; padding: 10px;\">\n",
    "<h2>Instructions:</h2>\n",
    "\n",
    "<ol>\n",
    " <li>This cell bellow contains a python function to output an geometric sequence up to the nth term.  Run the cell to see the output of calling the function with d = 2, u_1 = 3, and n = 5.</li> \n",
    "    <li>How is this cell different/ more flexible than the last?</li>\n",
    "</ol>\n"
   ]
  },
  {
   "cell_type": "code",
   "execution_count": 30,
   "metadata": {},
   "outputs": [
    {
     "name": "stdout",
     "output_type": "stream",
     "text": [
      "2 6 18 54 162 "
     ]
    }
   ],
   "source": [
    "#prints geometric sequence up to the nth term \n",
    "def output_geo_seq_up_to(u_1, r, n):\n",
    "    #this for loop will run from 0 to n (meaning we will print the 1st-nth term in the sequence)\n",
    "    for i in range(n):\n",
    "        print (u_1 * r ** (i) , end= \" \")\n",
    "\n",
    "output_geo_seq_up_to(2, 3, 5)"
   ]
  },
  {
   "cell_type": "markdown",
   "metadata": {},
   "source": [
    "<div align=\"right\" style=\"font-size: 20px\">To go to the next problem click -> <a href='Currency_Student_Version.ipynb' style=\"background-color: #a1e3a1 ; padding: 2px;color:black;font-size: 20px\">Next</a></div> "
   ]
  },
  {
   "cell_type": "code",
   "execution_count": null,
   "metadata": {},
   "outputs": [],
   "source": []
  }
 ],
 "metadata": {
  "kernelspec": {
   "display_name": "Python 3",
   "language": "python",
   "name": "python3"
  },
  "language_info": {
   "codemirror_mode": {
    "name": "ipython",
    "version": 3
   },
   "file_extension": ".py",
   "mimetype": "text/x-python",
   "name": "python",
   "nbconvert_exporter": "python",
   "pygments_lexer": "ipython3",
   "version": "3.6.2"
  }
 },
 "nbformat": 4,
 "nbformat_minor": 4
}
