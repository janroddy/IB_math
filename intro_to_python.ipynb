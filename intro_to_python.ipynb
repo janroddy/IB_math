{
 "cells": [
  {
   "cell_type": "markdown",
   "metadata": {},
   "source": [
    "<h1 style= padding:10px>Introduction to Python and Jupyter Notebook</h1>\n",
    "\n",
    "<div style=\"background-color: #BCDBF5 ; padding: 10px;\">\n",
    "<h2>Instructions:</h2>\n",
    "\n",
    "<ol>\n",
    "  <li>This box is a called a cell, you can click on a cell and then click on the Run button (located in the toolbar at the top of the page) to execute the code. </li>\n",
    "  <li>These instruction cells will be in blue boxes and will tell you what to do in the following python code cells. Run the next cell following this one and see what happens. </li>\n",
    "  <li>Change the text within the quotes (\"\") part of the cell to \"Hello Python\" and see what happens when you run the cell again.  This is called a print statement in Python (the programming language we will be using) and it outputs text to the console. We will be using print statements to output our answers in this worksheet</li>\n",
    "  <li>Click into the cell starts with (a) to continue </li>\n",
    "</ol>\n",
    "\n",
    "</div>"
   ]
  },
  {
   "cell_type": "code",
   "execution_count": 1,
   "metadata": {},
   "outputs": [
    {
     "name": "stdout",
     "output_type": "stream",
     "text": [
      "Hello World\n"
     ]
    }
   ],
   "source": [
    "##print statements and comments \n",
    "print (\"Hello World\")"
   ]
  },
  {
   "cell_type": "code",
   "execution_count": null,
   "metadata": {},
   "outputs": [],
   "source": [
    "## variables"
   ]
  },
  {
   "cell_type": "markdown",
   "metadata": {},
   "source": [
    "\n",
    "<div align=\"right\" style=\"font-size: 20px\">To go to the next problem click -> <a href='IB_math_ch7.ipynb' style=\"background-color: #a1e3a1 ; padding: 2px;color:black;font-size: 20px\">Next</a></div> "
   ]
  },
  {
   "cell_type": "code",
   "execution_count": null,
   "metadata": {},
   "outputs": [],
   "source": []
  }
 ],
 "metadata": {
  "kernelspec": {
   "display_name": "Python 3",
   "language": "python",
   "name": "python3"
  },
  "language_info": {
   "codemirror_mode": {
    "name": "ipython",
    "version": 3
   },
   "file_extension": ".py",
   "mimetype": "text/x-python",
   "name": "python",
   "nbconvert_exporter": "python",
   "pygments_lexer": "ipython3",
   "version": "3.6.2"
  }
 },
 "nbformat": 4,
 "nbformat_minor": 4
}
