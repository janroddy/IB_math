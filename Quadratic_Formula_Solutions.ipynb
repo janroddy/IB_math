{
  "nbformat": 4,
  "nbformat_minor": 0,
  "metadata": {
    "kernelspec": {
      "display_name": "Python 3",
      "language": "python",
      "name": "python3"
    },
    "language_info": {
      "codemirror_mode": {
        "name": "ipython",
        "version": 3
      },
      "file_extension": ".py",
      "mimetype": "text/x-python",
      "name": "python",
      "nbconvert_exporter": "python",
      "pygments_lexer": "ipython3",
      "version": "3.7.5"
    },
    "colab": {
      "name": "Quadratic_Formula_Solutions.ipynb",
      "provenance": [],
      "collapsed_sections": [],
      "toc_visible": true,
      "include_colab_link": true
    }
  },
  "cells": [
    {
      "cell_type": "markdown",
      "metadata": {
        "id": "view-in-github",
        "colab_type": "text"
      },
      "source": [
        "<a href=\"https://colab.research.google.com/github/janroddy/IB_math/blob/master/Quadratic_Formula_Solutions.ipynb\" target=\"_parent\"><img src=\"https://colab.research.google.com/assets/colab-badge.svg\" alt=\"Open In Colab\"/></a>"
      ]
    },
    {
      "cell_type": "markdown",
      "metadata": {
        "id": "LHznEwDuKvnu",
        "colab_type": "text"
      },
      "source": [
        "# Solving Quadratic Equations\n",
        "\n",
        "---\n",
        "\n",
        "![Quadratic Formula graphic](https://drive.google.com/uc?export=view&id=1Q5ZvLcIZJhros81JeEh_gyE0Sz6elKnd)\n"
      ]
    },
    {
      "cell_type": "markdown",
      "metadata": {
        "id": "thziAg5u6iI6",
        "colab_type": "text"
      },
      "source": [
        "\n",
        " A quadratic equation is in the form of $ {ax^2 + bx + c = 0} $\n",
        "\n",
        " The quadratic formula is: $x=\\frac{-b\\pm\\sqrt{b^2-4ac}}{2a}$\n",
        "       \n",
        "## Exercise 1:\n",
        "Solve the quadratic equation $ {x^2 + 3x - 4 = 0} $ to find the x-intercepts of the equation.\n",
        "\n",
        "Operator | Python Operator | Example\n",
        "--- | --- | ---\n",
        "Addition | + | 8 + 8 = 16\n",
        "Subtraction| - | 10 - 5 = 5\n",
        "Multiplication | * | 8 * 8 = 64\n",
        "Division | / | 8 / 2 = 2\n",
        "Exponent | ** | 4**2 = 16\n",
        "Square Root | math.sqrt() | math.sqrt(4) = 2\n",
        "     \n",
        "    \n",
        "## Instructions:\n",
        "\n",
        "1. On lines 4, 5, and 6 fill in the variables that correspond to a, b and c.\n",
        "2.  On lines 8 and 9 use the table of operators and formula provided above to program the quadratic formula for the two solutions. Notice that there is no $\\pm\\$ operator, so you will need to write two equations. Use addition on line 8 and subtraction on line 9. Don't forget parentheses!\n",
        "3. Run the cell to see the output.\n",
        "4. Check your answers by hand and compare them.  Are they the same?  \n",
        "5. Change the two spots where you have \"\n",
        "math.sqrt()\" to \"cmath.sqrt()\"and rerun the cell.  How does this change the output?\n",
        "6. The cmath module provides access to complex numbers and when calling \"cmath.sqrt()\" the solution will include both the real and imaginary parts of the number.\n",
        "7.  Change your code back to call math.sqrt() on lines 8 and 9 before moving on.  \n"
      ]
    },
    {
      "cell_type": "code",
      "metadata": {
        "id": "IQzOpExc6iI8",
        "colab_type": "code",
        "colab": {
          "base_uri": "https://localhost:8080/",
          "height": 35
        },
        "outputId": "b367a799-c47d-459c-9aa5-73548447af00"
      },
      "source": [
        "import math\n",
        "import cmath\n",
        "\n",
        "a = 1\n",
        "b = 3\n",
        "c = -4\n",
        "\n",
        "sol1 = (-b + math.sqrt((b**2) - (4 * a* c)))/(2 * a)\n",
        "sol2 = (-b - math.sqrt((b**2) - (4 * a * c)))/(2 * a)\n",
        "\n",
        "print('The solutions are x = {} and x = {}.'.format(sol1,sol2))"
      ],
      "execution_count": 1,
      "outputs": [
        {
          "output_type": "stream",
          "text": [
            "The solutions are x = 1.0 and x = -4.0.\n"
          ],
          "name": "stdout"
        }
      ]
    },
    {
      "cell_type": "markdown",
      "metadata": {
        "id": "K_x9mGns6iJF",
        "colab_type": "text"
      },
      "source": [
        "## Graphing Quadratic Equations and Roots</h2>\n",
        "Using a Python module called matplotlib, let's plot the quadratic equation: $ {x^2 + 3x - 4 = 0} $ (from exercise 1) and the roots/solutions of the equation.\n",
        "\n",
        "## Instructions:\n",
        "1. Do our solutions make sense in the context of the problem? If not, take another go at the last exercise.  \n",
        "\n"
      ]
    },
    {
      "cell_type": "code",
      "metadata": {
        "id": "3xnuqXJy6iJH",
        "colab_type": "code",
        "colab": {
          "base_uri": "https://localhost:8080/",
          "height": 295
        },
        "outputId": "8acd03c2-d152-4043-957b-b3b344c548b1"
      },
      "source": [
        "import matplotlib.pyplot as plt\n",
        "import numpy as np\n",
        "\n",
        "x = np.arange(-10, 10, 0.1)\n",
        "def f(x):\n",
        "    return x**2 + 3*x - 4  \n",
        "\n",
        "fig, ax = plt.subplots()\n",
        "\n",
        "roots = np.array([sol1, sol2])\n",
        "ax.plot(x, f(x), color='blue')\n",
        "ax.plot(roots, f(roots), 'go', label=\"Roots/ Solutions\")\n",
        "\n",
        "#formatting \n",
        "ax.axhline(0, color='gray')\n",
        "ax.axvline(0, color='gray')\n",
        "plt.title(\"f(x)=x^2 + 3x - 4\")\n",
        "ax.set_xlabel('x')\n",
        "ax.set_ylabel('f(x)')\n",
        "plt.grid(True)\n",
        "ax.legend(loc='best')\n",
        "\n",
        "plt.show()"
      ],
      "execution_count": 7,
      "outputs": [
        {
          "output_type": "display_data",
          "data": {
            "image/png": "[encoded data removed]",
            "text/plain": [
              "<Figure size 432x288 with 1 Axes>"
            ]
          },
          "metadata": {
            "tags": [],
            "needs_background": "light"
          }
        }
      ]
    },
    {
      "cell_type": "markdown",
      "metadata": {
        "id": "tOxzwiEbVrWS",
        "colab_type": "text"
      },
      "source": [
        "\n",
        "\n",
        "## Exercise 2: Complex Quadratic Solutions \n",
        "Using Python's cmath module let's solve for complex solutions to a quadratic equation.\n",
        "\n",
        "Solve the quadratic equation $ {x^2 + 3x + 4 = 0} $ to find the solutions of the equation.\n",
        "\n",
        "## Instructions:\n",
        "1. On lines 3, 4, and 5 fill in the variables that correspond to a, b and c.\n",
        "2. On lines 8 and 9 copy and paste your \"sol1 = \" and \"sol2 = \" lines from exercise 1 and change the square root call to \"cmath.sqrt()\" again.  \n",
        "3. Run the cells to see the complex solutions.  \n",
        "\n"
      ]
    },
    {
      "cell_type": "code",
      "metadata": {
        "id": "JiPLUqcqUD5f",
        "colab_type": "code",
        "colab": {
          "base_uri": "https://localhost:8080/",
          "height": 34
        },
        "outputId": "b76ead4f-4bbe-4179-d91d-9b03f9aed74d"
      },
      "source": [
        "import cmath\n",
        "\n",
        "a = 1\n",
        "b = 3\n",
        "c = 4\n",
        "\n",
        "sol1 = (-b - cmath.sqrt((b**2) - (4 * a* c)))/(2 * a)\n",
        "sol2 = (-b + cmath.sqrt((b**2) - (4 * a * c)))/(2 * a)\n",
        "\n",
        "print('The solutions are x = {} and x = {}.'.format(sol1,sol2))"
      ],
      "execution_count": null,
      "outputs": [
        {
          "output_type": "stream",
          "text": [
            "The solutions are x = (-1.5-1.3228756555322954j) and x = (-1.5+1.3228756555322954j).\n"
          ],
          "name": "stdout"
        }
      ]
    },
    {
      "cell_type": "markdown",
      "metadata": {
        "id": "tt6T19Bd6iJN",
        "colab_type": "text"
      },
      "source": [
        "\n",
        "\n",
        "## Identifying the number of real solutions to Quadratic Equations\n",
        "We can determine the number of solutions of a quadratic equation by considering its discriminant.\n",
        "The **discriminant** is the $ {b^2 - 4ac} $ part of the quadratic formula. \n",
        "\n",
        "* if $ {b^2 - 4ac} $ == 0, then there will be 1 solution. Note that \"==\" means \"equal to\" in Python.  \n",
        "```\n",
        " if discriminant == 0: \n",
        "```\n",
        "\n",
        "\n",
        "* else if $ {b^2 - 4ac} $ > 0, then there will be 2 solutions.\n",
        "```\n",
        " elif discriminant > 0:\n",
        "```\n",
        "\n",
        "\n",
        "*  else $ {b^2 - 4ac} $ < 0, then there will be no real solutions. Note that there is no condition after the else- it will run whenever the other two conditions are evaluated to false. \n",
        "```\n",
        " else:\n",
        "```\n",
        "    \n",
        "*== means \"equal to\" in Python     \n",
        "\n",
        "This type of logic lends itself well to programming and is generally referred to as **conditional statements**.  **Conditional Statements** perform different computations or actions depending on whether a condition evaluates to true or false.\n",
        "    \n",
        "## Exercise 2:\n",
        "Determine the number of solutions to the quadratic equation:  $ {6x^2 + 11x - 35 = 0} $\n",
        "\n",
        "\n",
        "## Instructions:\n",
        "\n",
        "1. Fill in the values of a, b, and c based on the equation provided above.\n",
        "2. Using a, b, and c, program the formula for the discriminant on line 5.\n",
        "3. Based on the calculation of the discriminant, fill in the condition on line 14 for the blocks of code that print how many solutions that the equation has. End your condition with a \":\".  \n",
        "4. Run the cell to see the answer and check the answer by hand or with a partner.  Experiment with some other values of a, b, c (other quadratic equations).\n",
        "\n",
        "\n"
      ]
    },
    {
      "cell_type": "code",
      "metadata": {
        "id": "i7FV2r7N6iJO",
        "colab_type": "code",
        "colab": {
          "base_uri": "https://localhost:8080/",
          "height": 52
        },
        "outputId": "0751ff81-9575-4adf-bc43-2ebadbc4ee8a"
      },
      "source": [
        "a = 6\n",
        "b = 10 \n",
        "c = -1\n",
        "\n",
        "discriminant = b**2 - 4 * a * c \n",
        "\n",
        "print (\"The discriminant is {}\".format(discriminant))\n",
        "\n",
        "#first this condition will be checked, if it is true the print statement will run \n",
        "if discriminant == 0:\n",
        "    print (\"There is 1 real solution to the equation.\")\n",
        "\n",
        "#meaning \"else if\", this condition will only be checked if the first is false \n",
        "elif discriminant > 0:\n",
        "    print (\"There are 2 real solutions to the equation.\")\n",
        "\n",
        "#if neither of the other two conditions are true, then this block will run \n",
        "else:\n",
        "    print (\"There are no real solutions to the equation.\")\n"
      ],
      "execution_count": 4,
      "outputs": [
        {
          "output_type": "stream",
          "text": [
            "The discriminant is 124\n",
            "There are 2 real solutions to the equation.\n"
          ],
          "name": "stdout"
        }
      ]
    }
  ]
}