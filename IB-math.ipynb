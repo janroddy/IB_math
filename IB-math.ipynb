{
 "cells": [
  {
   "cell_type": "markdown",
   "metadata": {},
   "source": [
    "## Arithmetic Sequences: "
   ]
  },
  {
   "cell_type": "markdown",
   "metadata": {},
   "source": [
    "## instructions: \n",
    "1. BLUE BOX \n",
    "2. \n",
    "3. \n",
    "\n"
   ]
  },
  {
   "cell_type": "code",
   "execution_count": 31,
   "metadata": {},
   "outputs": [
    {
     "name": "stdout",
     "output_type": "stream",
     "text": [
      "3.0 3.5 4.0 4.5 5.0 5.5 "
     ]
    }
   ],
   "source": [
    "#prints arithmetic sequence up to the nth term \n",
    "def output_arth_seq_up_to(d, u_1, n):\n",
    "    for i in range(1, n+1):\n",
    "        print (u_1 + (i-1)*d, end= \" \")\n",
    "\n",
    "output_arth_seq_up_to(.5,3,6)\n"
   ]
  },
  {
   "cell_type": "markdown",
   "metadata": {},
   "source": [
    "<h3>The formula for the nth term of a geometric sequence is: </h3>\n",
    "<p>U<sub>n</sub> = U<sub>1</sub>+ (n-1)d</p>"
   ]
  },
  {
   "cell_type": "code",
   "execution_count": 32,
   "metadata": {},
   "outputs": [
    {
     "name": "stdout",
     "output_type": "stream",
     "text": [
      "12\n"
     ]
    }
   ],
   "source": [
    "#returns the nth term of an arithmetic series\n",
    "def nth_term_arth_sequence(d, u_1, n): \n",
    "    return u_1 + (n-1)*d \n",
    "\n",
    "u_n = nth_term_arth_sequence(2, 2, 6)\n",
    "\n",
    "print(u_n)"
   ]
  },
  {
   "cell_type": "code",
   "execution_count": 33,
   "metadata": {},
   "outputs": [
    {
     "name": "stdout",
     "output_type": "stream",
     "text": [
      "9880.0\n"
     ]
    }
   ],
   "source": [
    "#returns the sum up to the nth term in an arithmetic\n",
    "def sum_up_to_n(n, d, u_1):\n",
    "    s_n = n/2*(2*u_1 + (n-1)* d)\n",
    "    return s_n\n",
    "\n",
    "s_n = sum_up_to_n(80, 3, 5)\n",
    "print(s_n)"
   ]
  },
  {
   "cell_type": "code",
   "execution_count": 34,
   "metadata": {},
   "outputs": [
    {
     "name": "stdout",
     "output_type": "stream",
     "text": [
      "858.0\n"
     ]
    }
   ],
   "source": [
    "#u_1 = first term\n",
    "#u_n = last term \n",
    "#n = number of terms \n",
    "\n",
    "#returns the sum up to the nth term of the term of an arithmetic series\n",
    "def sum_up_to_n(n, u_1, u_n):\n",
    "    s_n = n/2*(u_1 + u_n)\n",
    "    return s_n\n",
    "s_n = sum_up_to_n(22, -3, 81)\n",
    "print(s_n)"
   ]
  },
  {
   "cell_type": "markdown",
   "metadata": {},
   "source": [
    "## Geometric Sequences"
   ]
  },
  {
   "cell_type": "code",
   "execution_count": 35,
   "metadata": {},
   "outputs": [
    {
     "name": "stdout",
     "output_type": "stream",
     "text": [
      "2 6 18 54 162 "
     ]
    }
   ],
   "source": [
    "#u_1 = first term in sequence\n",
    "# r = common ratio\n",
    "# n = number of terms  \n",
    "\n",
    "\n",
    "\n",
    "#prints geometric sequence up to the nth term \n",
    "def output_geo_seq_up_to(u_1, r, n):\n",
    "    #this for loop will run from 1 to n (meaning we will print the 1st-nth term in the sequence)\n",
    "    for i in range(1, n+1):\n",
    "        print (u_1 * r ** (i-1) , end= \" \")\n",
    "\n",
    "output_geo_seq_up_to(2, 3, 5)"
   ]
  },
  {
   "cell_type": "code",
   "execution_count": 36,
   "metadata": {},
   "outputs": [
    {
     "name": "stdout",
     "output_type": "stream",
     "text": [
      "162\n"
     ]
    }
   ],
   "source": [
    "#returns the nth term in a geometric series        \n",
    "def nth_term_geo_sequence(u_1, r, n):\n",
    "    return u_1 * r **(n-1)\n",
    "\n",
    "s_n = nth_term_geo_sequence(2, 3, 5)\n",
    "print(s_n)\n"
   ]
  },
  {
   "cell_type": "code",
   "execution_count": 37,
   "metadata": {},
   "outputs": [
    {
     "name": "stdout",
     "output_type": "stream",
     "text": [
      "8.999847584209723\n",
      "9.0\n"
     ]
    }
   ],
   "source": [
    "\n",
    "#returns the sum of a geometric sequence up to the nth term \n",
    "def sum_up_to_n_geo(u_1, r, n):\n",
    "    return (u_1* (r**n-1)) / (r - 1)\n",
    "\n",
    "s_n = sum_up_to_n_geo(6, 1/3, 10)\n",
    "print (s_n)\n",
    "print(round(s_n, 0)) "
   ]
  },
  {
   "cell_type": "code",
   "execution_count": 38,
   "metadata": {},
   "outputs": [
    {
     "name": "stdout",
     "output_type": "stream",
     "text": [
      "8.999847584209723\n"
     ]
    }
   ],
   "source": [
    "#u_1 = first term \n",
    "#u_n = last term \n",
    "#n = number of terms \n",
    "\n",
    "#\n",
    "def sum_up_to_n_geo(u_1, r, n):\n",
    "    return (u_1 * (1- r**n)) / (1 - r)\n",
    "\n",
    "\n",
    "s_n = sum_up_to_n_geo(6, 1/3, 10)\n",
    "print(s_n)"
   ]
  },
  {
   "cell_type": "markdown",
   "metadata": {},
   "source": [
    "## Currency Conversions \n",
    "Example 13: Zoran wants to change 200 Singapore dollars (SGD) to euros.  The exchange rate is 1SGD = 0.588 euros. The bank charges 2% commission.  Calculate how many euros Zoran receives.  \n",
    " "
   ]
  },
  {
   "cell_type": "code",
   "execution_count": 55,
   "metadata": {},
   "outputs": [
    {
     "name": "stdout",
     "output_type": "stream",
     "text": [
      "Commission: 4 SGD\n",
      "The amount to convert after commission: 196SGD to euros\n",
      "Zoran receives 115.25 euros\n"
     ]
    }
   ],
   "source": [
    "def convert_currency_bank_buying(exchange_rate, amount):\n",
    "    return exchange_rate * amount\n",
    "\n",
    "def calc_commission(commission_rate, amount):\n",
    "    return commission_rate * amount\n",
    "\n",
    "amount = 200\n",
    "commision = .02\n",
    "exchange_rate = 0.588\n",
    "\n",
    "commission = calc_commission(.02, 200)\n",
    "print (\"Commission: %d SGD\" % commission)\n",
    "amount_to_change = amount - commission \n",
    "print (\"The amount to convert after commission: %dSGD to euros\" % amount_to_change)\n",
    "converted_amount = convert_currency_bank_buying(exchange_rate, amount_to_change)\n",
    "\n",
    "print (\"Zoran receives %.2f euros\"% converted_amount)"
   ]
  },
  {
   "cell_type": "code",
   "execution_count": null,
   "metadata": {},
   "outputs": [],
   "source": [
    "def convert_currency_bank_selling(exchange_rate, amount):\n",
    "    return amount / exchange_rate"
   ]
  },
  {
   "cell_type": "markdown",
   "metadata": {},
   "source": [
    "## Compound Interest \n"
   ]
  },
  {
   "cell_type": "code",
   "execution_count": 62,
   "metadata": {},
   "outputs": [
    {
     "name": "stdout",
     "output_type": "stream",
     "text": [
      "8211.41\n"
     ]
    }
   ],
   "source": [
    "#pv = present value\n",
    "#r = rate \n",
    "#n = number of years\n",
    "#k = number of compounding periods per year\n",
    "def calc_future_value(pv, r, n, k):\n",
    "    return pv * (1 + r/(k*100))**(n*k)\n",
    "    \n",
    "fv = calc_future_value(6000, 4, 8, 1)\n",
    "print (round(fv, 2))\n",
    "#future_value = present_value * (1 + r/(k(100)))**(nk)"
   ]
  },
  {
   "cell_type": "code",
   "execution_count": null,
   "metadata": {},
   "outputs": [],
   "source": [
    "#"
   ]
  }
 ],
 "metadata": {
  "kernelspec": {
   "display_name": "Python 3",
   "language": "python",
   "name": "python3"
  },
  "language_info": {
   "codemirror_mode": {
    "name": "ipython",
    "version": 3
   },
   "file_extension": ".py",
   "mimetype": "text/x-python",
   "name": "python",
   "nbconvert_exporter": "python",
   "pygments_lexer": "ipython3",
   "version": "3.6.2"
  }
 },
 "nbformat": 4,
 "nbformat_minor": 2
}
