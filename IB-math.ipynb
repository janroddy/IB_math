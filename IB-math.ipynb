{
 "cells": [
  {
   "cell_type": "markdown",
   "metadata": {},
   "source": [
    "## Arithmetic Sequences: "
   ]
  },
  {
   "cell_type": "code",
   "execution_count": 32,
   "metadata": {},
   "outputs": [
    {
     "name": "stdout",
     "output_type": "stream",
     "text": [
      "12\n",
      "3.0 3.5 4.0 4.5 5.0 5.5 "
     ]
    }
   ],
   "source": [
    "#common difference \n",
    "d = 2\n",
    "\n",
    "#first term \n",
    "u_1 = 2\n",
    "\n",
    "#the term in the sequence \n",
    "n = 8\n",
    "\n",
    "#returns the nth term of an arithmetic series\n",
    "def get_nth_term(d, u_1, n): \n",
    "    return u_1 + (n-1)*d \n",
    "\n",
    "#prints arithmetic sequence up to the nth term \n",
    "def output_seq_up_to(d, u_1, n):\n",
    "    for i in range(1, n+1):\n",
    "        print (u_1 + (i-1)*d, end= \" \")\n",
    "\n",
    "u_n = get_nth_term(2, 2, 6)\n",
    "\n",
    "print(u_n)\n",
    "\n",
    "output_seq_up_to(.5,3,6)\n"
   ]
  },
  {
   "cell_type": "code",
   "execution_count": 31,
   "metadata": {},
   "outputs": [
    {
     "name": "stdout",
     "output_type": "stream",
     "text": [
      "9880.0\n"
     ]
    }
   ],
   "source": [
    "def sum_up_to_n(n, d, u_1):\n",
    "    s_n = n/2*(2*u_1 + (n-1)* d)\n",
    "    return s_n\n",
    "\n",
    "s_n = sum_up_to_n(80, 3, 5)\n",
    "print(s_n)"
   ]
  },
  {
   "cell_type": "code",
   "execution_count": 36,
   "metadata": {},
   "outputs": [
    {
     "name": "stdout",
     "output_type": "stream",
     "text": [
      "858.0\n"
     ]
    }
   ],
   "source": [
    "#u_1 = first term\n",
    "#u_n = last term \n",
    "#n = number of terms \n",
    "def sum_up_to_n(n, u_1, u_n):\n",
    "    s_n = n/2*(u_1 + u_n)\n",
    "    return s_n\n",
    "s_n = sum_up_to_n(22, -3, 81)\n",
    "print(s_n)"
   ]
  },
  {
   "cell_type": "code",
   "execution_count": null,
   "metadata": {},
   "outputs": [],
   "source": []
  }
 ],
 "metadata": {
  "kernelspec": {
   "display_name": "Python 3",
   "language": "python",
   "name": "python3"
  },
  "language_info": {
   "codemirror_mode": {
    "name": "ipython",
    "version": 3
   },
   "file_extension": ".py",
   "mimetype": "text/x-python",
   "name": "python",
   "nbconvert_exporter": "python",
   "pygments_lexer": "ipython3",
   "version": "3.6.2"
  }
 },
 "nbformat": 4,
 "nbformat_minor": 2
}
