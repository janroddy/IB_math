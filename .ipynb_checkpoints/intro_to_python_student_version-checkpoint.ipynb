{
 "cells": [
  {
   "cell_type": "markdown",
   "metadata": {},
   "source": [
    "<h1 style= padding:10px>Introduction to Python and Jupyter Notebook</h1>\n",
    "\n",
    "<div style=\"background-color: #BCDBF5 ; padding: 10px;\">\n",
    "<h2>Instructions:</h2>\n",
    "\n",
    "<ol>\n",
    "  <li>This box is a called a cell, you can click on a cell and then click on the Run button (located in the toolbar at the top of the page) to execute the code. </li>\n",
    "  <li>The instruction will be in blue boxes and will tell you what to do in the following python code cells.  </li>\n",
    "    <li>Run this cell to go to the next instructions.</li> \n",
    "</ol>\n",
    "\n",
    "</div>"
   ]
  },
  {
   "cell_type": "markdown",
   "metadata": {},
   "source": [
    "<h2 style=padding:10px>Print Statements/Output:</h2>\n",
    "<ul>\n",
    "    <li>A <b>print statement</b> displays output to the console.</li>\n",
    "</ul>    \n",
    "\n",
    "\n",
    "<div style=\"background-color: #BCDBF5 ; padding: 10px;\">\n",
    "<h2>Instructions:</h2>\n",
    "\n",
    "<ol>\n",
    "    <li>Let's run our first Python cell (the one right below this cell).  Click into the cell and then click the Run button in the toolbar. Check and see what happens below the cell. This is the ouput of our code.</li>\n",
    "  <li>Change the text within the quotes (\"\") in the cell to \"Hello Python\" and see what happens when you run the cell again.  This is called a print statement in Python and it outputs text. We will be using print statements to output our answers in this worksheet.</li>\n",
    "  <li>Click into the cell starts with \"Variables\" to continue. </li>\n",
    "</ol>\n",
    "\n",
    "</div>"
   ]
  },
  {
   "cell_type": "code",
   "execution_count": 4,
   "metadata": {},
   "outputs": [
    {
     "name": "stdout",
     "output_type": "stream",
     "text": [
      "Hello World\n"
     ]
    }
   ],
   "source": [
    "print (\"Hello World\")"
   ]
  },
  {
   "cell_type": "markdown",
   "metadata": {},
   "source": [
    " <h2 style=padding:10px>Comments:</h2>\n",
    " <ul>\n",
    "    <li>A <b>comment</b> is text in a program that documents your code.  Comments are written to be read by humans not computers.  You will see comments in the code cells and you should read them to help understand what is happening in the cell.</li>\n",
    "    <li>In Python comments start with the hash symbol (#).  \n",
    "\n",
    "</ul>  \n",
    "\n",
    "<div style=\"background-color: #BCDBF5 ; padding: 10px;\">\n",
    "<h2>Instructions:</h2>\n",
    "\n",
    "<ol>\n",
    "    <li>On line 2 in the next cell, write a single line comment that starts with My name is...</li>\n",
    "\n",
    "</ol>\n",
    "\n",
    "</div>\n"
   ]
  },
  {
   "cell_type": "code",
   "execution_count": null,
   "metadata": {},
   "outputs": [],
   "source": [
    "#This is a comment in Python \n"
   ]
  },
  {
   "cell_type": "markdown",
   "metadata": {},
   "source": [
    " <h2 style=padding:10px>Variables and Data Types:</h2>\n",
    " <ul>\n",
    "    <li>A <b>variable</b> is like a container that stores a value.</li>\n",
    "    <li>In Python a variable has a name, a value, and a data type</li>\n",
    "</ul>  \n",
    "\n",
    "<div style=\"background-color: #BCDBF5 ; padding: 10px;\">\n",
    "<h2>Instructions:</h2>\n",
    "\n",
    "<ol>\n",
    "    <li>In the cell below see that line 1 assigns a variable named my_var1 to 8. The <b>data type</b> of my_var1 is an integer which we call an <b>int</b> in python.</li>\n",
    "    <li>On line 2 assign my_var2 to an <b>int</b> with the value of 2.</li>\n",
    "    <li>Run the cell. What does it output and why? Take a look at the print statement in line 4 and discuss with a classmate the 3 steps of this program and what they each do.\n",
    "    </li>\n",
    "    <li>Change the values of my_var1 and my_var2 to be 8.0 and 2.0.  How does this change the output of the cell when you run it? Numbers with a decimal point in Python are called <b>floats</b>.</li>\n",
    "</ol>\n",
    "\n",
    "</div>"
   ]
  },
  {
   "cell_type": "code",
   "execution_count": 3,
   "metadata": {},
   "outputs": [
    {
     "name": "stdout",
     "output_type": "stream",
     "text": [
      "10.0\n"
     ]
    }
   ],
   "source": [
    "my_var1 = 8\n",
    "my_var2 = \n",
    "\n",
    "print (my_var1 + my_var2)"
   ]
  },
  {
   "attachments": {},
   "cell_type": "markdown",
   "metadata": {},
   "source": [
    "<h2 style= padding:20px>Python Operators</h2>\n",
    "\t<ul>\n",
    "\t\t<li>Arithmetic Operators in Python allow you to write expressions to be executed like you would in a calculator.</li> \n",
    "\t\t<li>Read through the table below so you are familiar with the operators that we will be using in our code.</li>\n",
    "\t</ul>\n",
    "\n",
    "<table align=\"left\">\n",
    "  <tr>\n",
    "    <th>Operator</th>\n",
    "    <th>Python Operator</th>\n",
    "    <th>Example</th>\n",
    "  </tr>\n",
    "  <tr>\n",
    "    <td>Addition</td>\n",
    "    <td>+</td>\n",
    "    <td>8 + 8 =16</td>\n",
    "  </tr>\n",
    "  <tr>\n",
    "    <td>Subtraction</td>\n",
    "    <td>-</td>\n",
    "    <td>10 - 5 = 5</td>\n",
    "  </tr>\n",
    "  <tr>\n",
    "    <td>Multiplication</td>\n",
    "    <td>*</td>\n",
    "    <td>8 * 8 = 64</td>\n",
    "  </tr>\n",
    "  <tr>\n",
    "    <td>Division</td>\n",
    "    <td>/</td>\n",
    "    <td>8 / 2 = 2</td>\n",
    "  </tr>\n",
    "  <tr>\n",
    "    <td>Exponent</td>\n",
    "    <td>**</td>\n",
    "    <td>4**2 = 16</td>  \n",
    "  </tr>\n",
    "</table>\n",
    "\n"
   ]
  },
  {
   "cell_type": "markdown",
   "metadata": {},
   "source": [
    " <div style=\"background-color: #BCDBF5 ; padding: 10px;\">\n",
    "<h2>Instructions:</h2>\n",
    "\n",
    "<ol>\n",
    "\t\t<li>Write an expression to calculate the share of restaurant bill of $85.00 with a tip of 20% split by 3 people. Don't forget the parenthesis to indicate the order of operations.</li>\n",
    "\t\t<li>Assign your expression to a variable called my_share.</li>\n",
    "\t\t<li>Print my share to the console</li>\n",
    " \n",
    "</ol>\n",
    "\n",
    "</div>\n"
   ]
  },
  {
   "cell_type": "code",
   "execution_count": 8,
   "metadata": {},
   "outputs": [
    {
     "name": "stdout",
     "output_type": "stream",
     "text": [
      "34.0\n"
     ]
    }
   ],
   "source": [
    "my_share = #start after the = and before the #\n",
    "print (my_share)"
   ]
  },
  {
   "cell_type": "markdown",
   "metadata": {},
   "source": [
    "\n",
    "<div align=\"right\" style=\"font-size: 20px\">To go to the next problem click -> <a href='Geometric_Student_Version.ipynb' style=\"background-color: #a1e3a1 ; padding: 2px;color:black;font-size: 20px\">Next</a></div> "
   ]
  },
  {
   "cell_type": "code",
   "execution_count": null,
   "metadata": {},
   "outputs": [],
   "source": []
  }
 ],
 "metadata": {
  "kernelspec": {
   "display_name": "Python 3",
   "language": "python",
   "name": "python3"
  },
  "language_info": {
   "codemirror_mode": {
    "name": "ipython",
    "version": 3
   },
   "file_extension": ".py",
   "mimetype": "text/x-python",
   "name": "python",
   "nbconvert_exporter": "python",
   "pygments_lexer": "ipython3",
   "version": "3.6.2"
  }
 },
 "nbformat": 4,
 "nbformat_minor": 4
}
