{
 "cells": [
  {
   "cell_type": "markdown",
   "metadata": {},
   "source": [
    "<h1 style= padding:10px>Arithmetic Sequences:</h1>\n",
    "<div>\n",
    "\t<ul>\n",
    "\t\t<li>A <b>sequence of numbers</b> is a list of numbers (finite or infinite) arranged in an order that obeys a certain rule.</li> \n",
    "\t\t<li>Each number in the sequence is called a <b>term</b></li>\n",
    "        <li>In an <b>arithmetic sequence</b> you can find each term by adding (or subtracting) the same number to the term before</li>\n",
    "\t</ul>\n",
    "</div>\t\n",
    "\n",
    "\n",
    "\n",
    "<div>\n",
    "<h3>The formula for the nth term of a arithmetic sequence is: </h3>\n",
    "\n",
    "</div> \n",
    "$U_{n} = U_{1} + (n-1)d$     "
   ]
  },
  {
   "cell_type": "markdown",
   "metadata": {},
   "source": [
    "<div style=\"background-color: #BCDBF5 ; padding: 10px;\">\n",
    "<h2>Instructions:</h2>\n",
    "\n",
    "<ol>\n",
    "  <li>The next cell of python code defines a function to return the nth term of an arithmetic series if given the common difference, first term in the series, and the number (n) of the term we want to return.  Run the cell below to see it in action on d=2, u_1=2, and n=6.</li>\n",
    "    <li>Take a closer look at line 8 this is our function call. A <b>function call</b> tells the python interpretor to run our function on the arguments we supply.  We are also printing the output to the console with a print() statement, so that we can see the result</li>\n",
    "  <li>See if you can spot where we pass in the <b>arguments</b> which are the values that we pass to a function when it is called.</li>\n",
    "</ol>\n",
    "\n",
    "</div>"
   ]
  },
  {
   "cell_type": "code",
   "execution_count": null,
   "metadata": {},
   "outputs": [],
   "source": [
    "#d = common difference \n",
    "#u_1 = first term in series\n",
    "#n = term\n",
    "#returns the nth term of an arithmetic series\n",
    "def nth_term_arth_sequence(d, u_1, n): \n",
    "    return u_1 + (n-1)*d \n",
    "\n",
    "print (nth_term_arth_sequence(2, 2, 6))"
   ]
  },
  {
   "cell_type": "markdown",
   "metadata": {},
   "source": [
    "<div style=\"background-color: #BCDBF5 ; padding: 10px;\">\n",
    "<h2>Instructions:</h2>\n",
    "\n",
    "<ol>\n",
    "    <li>Run the next cell.</li>\n",
    "\t<li>Scroll to the bottom of the cell and read the output of the console.  This is called an error message and it is telling you that the python interpretor can't process the code, specifically, that our function call on line 8 is missing arguments. </li> \n",
    "  <li>Let's fix it! Go to line 8 and inside the parenthesis following nth_term_arth_sequence type the arguments separated by commas and in order for d=4, u_1 =6 , and n =12.  Hint: if you are stuck take a look at the previous example's line 8.</li>\n",
    "  <li>After making the change run the cell again and see what happens. </li> \n",
    "  <li>What is the 6th term in the sequence?</li>\n",
    "\n",
    "</ol>\n",
    "\n",
    "</div>"
   ]
  },
  {
   "cell_type": "code",
   "execution_count": null,
   "metadata": {},
   "outputs": [],
   "source": [
    "#d = common difference \n",
    "#u_1 = first term in series\n",
    "#n = number of terms \n",
    "#returns the nth term of an arithmetic series\n",
    "def nth_term_arth_sequence(d, u_1, n): \n",
    "    return u_1 + (n-1)*d \n",
    "\n",
    "print (nth_term_arth_sequence())"
   ]
  },
  {
   "cell_type": "markdown",
   "metadata": {},
   "source": [
    "<div>\n",
    "<h3>The sum up to n terms of an arithmetic sequence is given by the formula:</h3>\n",
    "    $S_{n} = \\frac{n}{2} (2U_{1} + (n-1)d)$  \n",
    "</div> "
   ]
  },
  {
   "cell_type": "markdown",
   "metadata": {},
   "source": [
    " <div style=\"background-color: #BCDBF5 ; padding: 10px;\">\n",
    "<h2>Instructions:</h2>\n",
    "\n",
    "<ol>\n",
    "    <li>Go to line 8 in the cell below and add the function call for sum_up_to_n() for d=3, u_1 = 5, and d = 80. In this line you will be assigning the value that the function call returns to the variable sum_n</li>\n",
    "\n",
    "</ol>\n",
    "\n",
    "</div>"
   ]
  },
  {
   "cell_type": "code",
   "execution_count": null,
   "metadata": {},
   "outputs": [],
   "source": [
    "#u_1 = first term\n",
    "#u_n = last term \n",
    "#n = number of terms \n",
    "#returns the sum up to the nth term in an arithmetic\n",
    "def sum_up_to_n(d, u_1, n):\n",
    "    return n/2*(2*u_1 + (n-1)* d)\n",
    "\n",
    "sum_n = # add the function call after the \"=\" and before the \"#\"\n",
    "print(sum_n)"
   ]
  },
  {
   "cell_type": "markdown",
   "metadata": {},
   "source": [
    "<div>\n",
    "<h3>Another formula for the sum to n terms of an arithmetic sequence: </h3>\n",
    "    $S_{n} = \\frac{n}{2} (U_{1} + U_{n})$  \n",
    "    <h3>* Use this form when you have the first term and the last term of the sequence.</h3>    \n",
    "</div> "
   ]
  },
  {
   "cell_type": "markdown",
   "metadata": {},
   "source": [
    "\n",
    " <div style=\"background-color: #BCDBF5 ; padding: 10px;\">\n",
    "<h2>Instructions:</h2>\n",
    "\n",
    "<ol>\n",
    "\t\t<li>This time we will take a closer look at the function we are defining and have you finish writing the function. Take another look at the formula above this cell and think about how you can convert it to Python</li>\n",
    "    <li>Go to line 7 in the cell below and fill in the formula using n, u_1, u_n.  The table of Python operators is supplied below for your reference. If you feel stuck take a look at the previous examples.</li>\n",
    "\n",
    "</ol>\n",
    "<table align=\"left\">\n",
    "  <tr>\n",
    "    <th>Operator</th>\n",
    "    <th>Python Operator</th>\n",
    "    <th>Example</th>\n",
    "  </tr>\n",
    "  <tr>\n",
    "    <td>Addition</td>\n",
    "    <td>+</td>\n",
    "    <td>8 + 8 =16</td>\n",
    "  </tr>\n",
    "  <tr>\n",
    "    <td>Subtraction</td>\n",
    "    <td>-</td>\n",
    "    <td>10 - 5 = 5</td>\n",
    "  </tr>\n",
    "  <tr>\n",
    "    <td>Multiplication</td>\n",
    "    <td>*</td>\n",
    "    <td>8 * 8 = 64</td>\n",
    "  </tr>\n",
    "  <tr>\n",
    "    <td>Division</td>\n",
    "    <td>/</td>\n",
    "    <td>8 / 2 = 2</td>\n",
    "  </tr>\n",
    "  <tr>\n",
    "    <td>Exponent</td>\n",
    "    <td>**</td>\n",
    "    <td>4**2 = 16</td>  \n",
    "  </tr>\n",
    "</table>\n",
    "</div>"
   ]
  },
  {
   "cell_type": "code",
   "execution_count": null,
   "metadata": {},
   "outputs": [],
   "source": [
    "#u_1 = first term\n",
    "#u_n = last term \n",
    "#n = number of terms \n",
    "\n",
    "#returns the sum up to the nth term of the term of an arithmetic series\n",
    "def sum_up_to_n(n, u_1, u_n):\n",
    "    return  #fill in the formula above for sum up to n \n",
    "\n",
    "sum_n = sum_up_to_n(22, -3, 81)\n",
    "print(sum_n)"
   ]
  },
  {
   "cell_type": "code",
   "execution_count": null,
   "metadata": {},
   "outputs": [],
   "source": []
  },
  {
   "cell_type": "markdown",
   "metadata": {},
   "source": [
    "<div style=\"background-color: #BCDBF5 ; padding: 10px;\">\n",
    "<h2>Instructions:</h2>\n",
    "\n",
    "<ol>\n",
    " <li>This cell bellow contains a python function to output an arithmetic sequence up to the nth term.  Run the cell to see the output of calling the function with d = 1/2, u_1 = 3, and n = 6.</li>\n",
    "  <li>After you see the output go back to the example and change the parameters to output d = 1/3, u_1 = 1, and n = 10.  Run the cell again and see how the output changes.</li>\n",
    "    <li>One difference to note between this function and the previous functions is the use of a <b>for loop</b> which will execute the block of code following it n times.</li>\n",
    "    <li>On line 12 make another function call to output the arithmetic sequence with a common difference of -5, a first term of 20, and 10 terms total.  \n",
    "</ol>\n",
    "\n",
    "</div>"
   ]
  },
  {
   "cell_type": "code",
   "execution_count": null,
   "metadata": {},
   "outputs": [],
   "source": [
    "#prints arithmetic sequence up to the nth term \n",
    "#d = common difference \n",
    "#u_1 = first term in series\n",
    "#n = number of terms \n",
    "def output_arth_seq_up_to(d, u_1, n):\n",
    "    for i in range(1, n+1):\n",
    "        print (u_1 + (i-1)*d, end= \" \")\n",
    "    print()\n",
    "    \n",
    "\n",
    "output_arth_seq_up_to(1/2,3,6)\n"
   ]
  },
  {
   "cell_type": "markdown",
   "metadata": {},
   "source": [
    "<div align=\"right\" style=\"font-size: 20px\">To go to the next problem click -> <a href='Geometric_Student_Version.ipynb' style=\"background-color: #a1e3a1 ; padding: 2px;color:black;font-size: 20px\">Next</a></div> "
   ]
  },
  {
   "cell_type": "code",
   "execution_count": null,
   "metadata": {},
   "outputs": [],
   "source": []
  }
 ],
 "metadata": {
  "kernelspec": {
   "display_name": "Python 3",
   "language": "python",
   "name": "python3"
  },
  "language_info": {
   "codemirror_mode": {
    "name": "ipython",
    "version": 3
   },
   "file_extension": ".py",
   "mimetype": "text/x-python",
   "name": "python",
   "nbconvert_exporter": "python",
   "pygments_lexer": "ipython3",
   "version": "3.6.2"
  }
 },
 "nbformat": 4,
 "nbformat_minor": 4
}
