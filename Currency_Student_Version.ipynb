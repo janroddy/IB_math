{
 "cells": [
  {
   "cell_type": "markdown",
   "metadata": {},
   "source": [
    "<h1 style= padding:10px>Currency Conversions</h1>\n",
    "<ul>\n",
    "\t<li>To change once currency to another either multiple the amount by the appropriate exchange rate (if the bank is buying) or divide the amount by the appropriate exchange rate (if the bank is selling).</li>\n",
    "\t<li>If the bank charges commission, calculate this first and subtract it from the amount before you change currency.</li>\n",
    "</ul>\n",
    "\n",
    "<b>Problem:</b> Zoran wants to change 200 Singapore dollars (SGD) to euros.  The exchange rate is 1SGD = 0.588 euros. The bank charges 2% commission.  Calculate how many euros Zoran receives. "
   ]
  },
  {
   "cell_type": "markdown",
   "metadata": {},
   "source": [
    "<div style=\"background-color: #BCDBF5 ; padding: 10px;\">\n",
    "<h2>Instructions:</h2>\n",
    "\n",
    "<ol>\n",
    " <li>On line 2 finish the convert_currency_bank_buying() function to calculate the currency conversion</li> \n",
    " \t<li>On line 5 finish the calc_commission() function</li>\n",
    "\n",
    "</ol>\n",
    "\n",
    "</div>\n"
   ]
  },
  {
   "cell_type": "code",
   "execution_count": 3,
   "metadata": {},
   "outputs": [
    {
     "name": "stdout",
     "output_type": "stream",
     "text": [
      "Commission: 4 SGD\n",
      "The amount to convert after commission: 196SGD to euros\n",
      "Zoran receives 115.25 euros\n"
     ]
    }
   ],
   "source": [
    "def convert_currency_bank_buying(exchange_rate, amount):\n",
    "    return exchange_rate * amount\n",
    "\n",
    "def calc_commission(commission_rate, amount):\n",
    "    return commission_rate * amount\n",
    "\n",
    "amount = 200\n",
    "percent_commision = .02\n",
    "exchange_rate = 0.588\n",
    "\n",
    "commission = calc_commission(percent_commision, amount)\n",
    "print (\"Commission: %d SGD\" % commission)\n",
    "\n",
    "amount_to_change = amount - commission \n",
    "print (\"The amount to convert after commission: %dSGD to euros\" % amount_to_change)\n",
    "\n",
    "converted_amount = convert_currency_bank_buying(exchange_rate, amount_to_change)\n",
    "print (\"Zoran receives %.2f euros\"% converted_amount)"
   ]
  },
  {
   "cell_type": "code",
   "execution_count": 12,
   "metadata": {},
   "outputs": [],
   "source": [
    "def convert_currency_bank_selling(exchange_rate, amount):\n",
    "    return amount / exchange_rate"
   ]
  },
  {
   "cell_type": "markdown",
   "metadata": {},
   "source": [
    "<div align=\"right\" style=\"font-size: 20px\">To go to the next problem click -> <a href='Compound_Interest.ipynb' style=\"background-color: #a1e3a1 ; padding: 2px;color:black;font-size: 20px\">Next</a></div> "
   ]
  },
  {
   "cell_type": "code",
   "execution_count": null,
   "metadata": {},
   "outputs": [],
   "source": []
  }
 ],
 "metadata": {
  "kernelspec": {
   "display_name": "Python 3",
   "language": "python",
   "name": "python3"
  },
  "language_info": {
   "codemirror_mode": {
    "name": "ipython",
    "version": 3
   },
   "file_extension": ".py",
   "mimetype": "text/x-python",
   "name": "python",
   "nbconvert_exporter": "python",
   "pygments_lexer": "ipython3",
   "version": "3.6.2"
  }
 },
 "nbformat": 4,
 "nbformat_minor": 4
}
