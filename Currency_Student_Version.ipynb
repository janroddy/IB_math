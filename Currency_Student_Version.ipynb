{
 "cells": [
  {
   "cell_type": "markdown",
   "metadata": {},
   "source": [
    "<h1 style= padding:10px>Currency Conversions</h1>\n",
    "<ul>\n",
    "\t<li>To change once currency to another either multiple the amount by the appropriate exchange rate (if the bank is buying) or divide the amount by the appropriate exchange rate (if the bank is selling).</li>\n",
    "\t<li>If the bank charges commission, calculate this first and subtract it from the amount before you change currency.</li>\n",
    "</ul>\n",
    "\n",
    "<b>Problem:</b> Zoran wants to change 200 Singapore dollars (SGD) to euros.  The exchange rate is 1SGD = 0.588 euros. The bank charges 2% commission.  Calculate how many euros Zoran receives. "
   ]
  },
  {
   "cell_type": "markdown",
   "metadata": {},
   "source": [
    "<div style=\"background-color: #BCDBF5 ; padding: 10px;\">\n",
    "<h2>Instructions:</h2>\n",
    "\n",
    "<ol>\n",
    "    <li>Take a look at the convert_currency_bank_buying() function on lines 1 and 2.  Talk with a classmate about how it works. </li>\n",
    " \t<li>On line 5 finish the calc_commission() function.</li>\n",
    " \t<li>On lines 7-9 assign the values to our variables based on the problem description above</li>\n",
    " \t<li>Notice on line 11 we are calculating the commission using the function we defined above.</li>\n",
    " \t<li>Finish lines 14 and 17 to amount_to_change and converted_amount.  Use the function convert_currency_bank_buying() defined above for the converted amount.</li>\n",
    " \t<li>Run the code, check the output, and adjust if necessary.</li>\n",
    "\n",
    "</ol>\n",
    "\n",
    "</div>"
   ]
  },
  {
   "cell_type": "code",
   "execution_count": 3,
   "metadata": {},
   "outputs": [
    {
     "name": "stdout",
     "output_type": "stream",
     "text": [
      "Commission: 4 SGD\n",
      "The amount to convert after commission: 196SGD to euros\n",
      "Zoran receives 115.25 euros\n"
     ]
    }
   ],
   "source": [
    "def convert_currency_bank_buying(exchange_rate, amount):\n",
    "    return amount * exchange_rate \n",
    "\n",
    "def calc_commission(commission_rate, amount):\n",
    "    return \n",
    "\n",
    "amount = \n",
    "percent_commision = \n",
    "exchange_rate = \n",
    "\n",
    "commission = calc_commission(percent_commision, amount)\n",
    "print (\"Commission: %d SGD\" % commission)\n",
    "\n",
    "amount_to_change =  \n",
    "print (\"The amount to convert after commission: %dSGD to euros\" % amount_to_change)\n",
    "\n",
    "converted_amount = \n",
    "print (\"Zoran receives %.2f euros\"% converted_amount)"
   ]
  },
  {
   "cell_type": "markdown",
   "metadata": {},
   "source": [
    "<h3>A French bank advertises the following conversion rates for buying and selling British pounds(GBP) and American dollars (USD):</h3>\n",
    "<p><b>Problem 1: </b>Peter has just returned from America and wants to exchange 250 USD back to euros. Calculate how many euros he receives.</p>\n",
    "<p><b>Problem 2: </b>Jamai is going on holiday to Britain and wants to change 500 euros.  Find how many GBP he receives.</p>\n",
    "<table>\n",
    "\t<tr>\n",
    "\t\t<th style=\"text-align: center\">BUY</th>\n",
    "\t\t<th style=\"text-align: center\">SELL</th>\n",
    "\t</tr>\n",
    "\t<tr>\n",
    "\t\t<td>1 USD = 0.761 euros</td>\n",
    "\t\t<td>1 USD = 0.843 euros</td>\n",
    "\t</tr>\n",
    "\t<tr>\n",
    "\t\t<td>1 GBP = 1.174 euros</td>\n",
    "\t\t<td>1 GBP = 1.81 euros</td>\n",
    "\t</tr>\n",
    "</table>\n"
   ]
  },
  {
   "cell_type": "markdown",
   "metadata": {},
   "source": [
    "<div style=\"background-color: #BCDBF5 ; padding: 10px;\">\n",
    "<h2>Instructions:</h2>\n",
    "\n",
    "<ol>\n",
    " <li>Finish the two functions on lines 2 and 5.</li>\n",
    " <li>Fill in the parameters on line 7 based on problem 1.</li>\n",
    "    <li>Make the function call on line 8 with the parameters from problem 2.</li>   \n",
    "</ol>\n",
    "\n",
    "</div>"
   ]
  },
  {
   "cell_type": "code",
   "execution_count": 16,
   "metadata": {},
   "outputs": [
    {
     "name": "stdout",
     "output_type": "stream",
     "text": [
      "190.25 euros\n",
      "423.37 GBP\n"
     ]
    }
   ],
   "source": [
    "def convert_currency_bank_buying(exchange_rate, amount):\n",
    "    return \n",
    "\n",
    "def convert_currency_bank_selling(exchange_rate, amount):\n",
    "    return \n",
    "\n",
    "peters_exchange = convert_currency_bank_buying()\n",
    "jamais_exhcange = \n",
    "\n",
    "print(round(peters_exchange,2), \"euros\")\n",
    "print(round(jamais_exhcange,2), \"GBP\")"
   ]
  },
  {
   "cell_type": "markdown",
   "metadata": {},
   "source": [
    "<div align=\"right\" style=\"font-size: 20px\">To go to the next problem click -> <a href='Compound_Interest.ipynb' style=\"background-color: #a1e3a1 ; padding: 2px;color:black;font-size: 20px\">Next</a></div> "
   ]
  }
 ],
 "metadata": {
  "kernelspec": {
   "display_name": "Python 3",
   "language": "python",
   "name": "python3"
  },
  "language_info": {
   "codemirror_mode": {
    "name": "ipython",
    "version": 3
   },
   "file_extension": ".py",
   "mimetype": "text/x-python",
   "name": "python",
   "nbconvert_exporter": "python",
   "pygments_lexer": "ipython3",
   "version": "3.6.2"
  }
 },
 "nbformat": 4,
 "nbformat_minor": 4
}
