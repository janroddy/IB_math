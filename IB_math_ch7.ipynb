{
 "cells": [
  {
   "cell_type": "markdown",
   "metadata": {},
   "source": [
    "<h1 style= padding:10px>Arithmetic Sequences:</h1>\n",
    "<div>\n",
    "\t<ul>\n",
    "\t\t<li>A <b>sequence of numbers</b> is a list of numbers (finite or infinite) arranged in an order that obeys a certain rule.</li> \n",
    "\t\t<li>Each number in the sequence is called a <b>term</b></li>\n",
    "        <li>In an <b>arithmetic sequence</b> you can find each term by adding (or subtracting) the same number to the term before</li>\n",
    "\t</ul>\n",
    "</div>\t\n",
    "\n",
    "\n",
    "\n",
    "<div>\n",
    "<h3>The formula for the nth term of a arithmetic sequence is: </h3>\n",
    "<p>U<sub>n</sub> = U<sub>1</sub>+ (n-1)d</p>\n",
    "</div>        "
   ]
  },
  {
   "cell_type": "markdown",
   "metadata": {},
   "source": [
    "<div style=\"background-color: #BCDBF5 ; padding: 10px;\">\n",
    "<h2>Instructions:</h2>\n",
    "\n",
    "<ol>\n",
    "  <li>The next cell of python code defines a function to return the nth term of an arithmetic series if given the common difference, first term in the series, and the number (n) of the term we want to return.  Run the cell below to see it in action on d=2, u_1=2, and n=6.</li>\n",
    "    <li>Take a closer look at line 8 this is our function call. A <b>function call</b> tells the python interpretor to run our function.  We are also printing the output to the console with a print() statement, so that we can see the result.</li>\n",
    "  <li>See if you can spot where we pass in the <b>arguments</b> which are the values that we give to a function when it is called.</li>\n",
    "</ol>\n",
    "\n",
    "</div>"
   ]
  },
  {
   "cell_type": "code",
   "execution_count": 8,
   "metadata": {},
   "outputs": [
    {
     "name": "stdout",
     "output_type": "stream",
     "text": [
      "12\n"
     ]
    }
   ],
   "source": [
    "#d = common difference \n",
    "#u_1 = first term in series\n",
    "#n = term\n",
    "#returns the nth term of an arithmetic series\n",
    "def nth_term_arth_sequence(d, u_1, n): \n",
    "    return u_1 + (n-1)*d \n",
    "\n",
    "print (nth_term_arth_sequence(2, 2, 6))"
   ]
  },
  {
   "cell_type": "markdown",
   "metadata": {},
   "source": [
    "<div style=\"background-color: #BCDBF5 ; padding: 10px;\">\n",
    "<h2>Instructions:</h2>\n",
    "\n",
    "<ol>\n",
    "    <li>Run the next cell.</li>\n",
    "\t<li>Scroll to the bottom of the cell and read the output of the console.  This is called an error message and it is telling you that the python interpretor can't process the code, specifically, that our function call on line 8 is missing arguments. </li> \n",
    "  <li>Let's fix it! Go to line 8 and inside the parenthesis following nth_term_arth_sequence type the arguments separated by commas and in order for d=4, u_1 =6 , and n =12.  Hint: if you are stuck take a look at the previous example's line 8.</li>\n",
    "  <li>After making the change run the cell again and see what happens. </li> \n",
    "  <li>What is the 6th term in the sequence?</li>\n",
    "\n",
    "</ol>\n",
    "\n",
    "</div>"
   ]
  },
  {
   "cell_type": "code",
   "execution_count": 9,
   "metadata": {},
   "outputs": [
    {
     "name": "stdout",
     "output_type": "stream",
     "text": [
      "50\n"
     ]
    }
   ],
   "source": [
    "#d = common difference \n",
    "#u_1 = first term in series\n",
    "#n = number of terms \n",
    "#returns the nth term of an arithmetic series\n",
    "def nth_term_arth_sequence(d, u_1, n): \n",
    "    return u_1 + (n-1)*d \n",
    "\n",
    "print (nth_term_arth_sequence(4,6,12))"
   ]
  },
  {
   "cell_type": "markdown",
   "metadata": {},
   "source": [
    "<div>\n",
    "<h3>The sum up to n terms of an arithmetic sequence is given by the formula:</h3>\n",
    "    <p>S<sub>n</sub> = n/2(2U<sub>1</sub>+ (n-1)d)</p>\n",
    "</div> "
   ]
  },
  {
   "cell_type": "markdown",
   "metadata": {},
   "source": [
    " <div style=\"background-color: #BCDBF5 ; padding: 10px;\">\n",
    "<h2>Instructions:</h2>\n",
    "\n",
    "<ol>\n",
    "    <li>Go to line 8 in the cell below and add the function call for sum_up_to_n() for d=3, u_1 = 5, and d = 80. In this line you will be assigning the value that the function call returns to the variable sum_n</li>\n",
    "\n",
    "</ol>\n",
    "\n",
    "</div>"
   ]
  },
  {
   "cell_type": "code",
   "execution_count": 10,
   "metadata": {},
   "outputs": [
    {
     "name": "stdout",
     "output_type": "stream",
     "text": [
      "9880.0\n"
     ]
    }
   ],
   "source": [
    "#u_1 = first term\n",
    "#u_n = last term \n",
    "#n = number of terms \n",
    "#returns the sum up to the nth term in an arithmetic\n",
    "def sum_up_to_n(d, u_1, n):\n",
    "    return n/2*(2*u_1 + (n-1)* d)\n",
    "\n",
    "sum_n = sum_up_to_n(3, 5, 80)# add the function call after the \"=\" and before the \"#\"\n",
    "print(sum_n)"
   ]
  },
  {
   "cell_type": "markdown",
   "metadata": {},
   "source": [
    "<div>\n",
    "<h3>Another formula for the sum to n terms of an arithmetic sequence: </h3>\n",
    "    <p>S<sub>n</sub> = n/2(U<sub>1</sub>+ U<sub>n</sub>)</p>\n",
    "    <h3>* Use this form when you have the first term and the last term of the sequence.</h3>    \n",
    "</div> "
   ]
  },
  {
   "cell_type": "markdown",
   "metadata": {},
   "source": [
    "\n",
    " <div style=\"background-color: #BCDBF5 ; padding: 10px;\">\n",
    "<h2>Instructions:</h2>\n",
    "\n",
    "<ol>\n",
    "\t\t<li>This time we will take a closer look at the function we are defining and have you finish writing the function. Take another look at the formula above this cell and think about how you can convert it to Python</li>\n",
    "    <li>Go to line 7 in the cell below and fill in the formula using n, u_1, u_n.  Remember that in Python division is \"/\", multiplication is \"*\" and addition is \"+\".</li>\n",
    "\n",
    "</ol>\n",
    "\n",
    "</div>"
   ]
  },
  {
   "cell_type": "code",
   "execution_count": 11,
   "metadata": {},
   "outputs": [
    {
     "name": "stdout",
     "output_type": "stream",
     "text": [
      "858.0\n"
     ]
    }
   ],
   "source": [
    "#u_1 = first term\n",
    "#u_n = last term \n",
    "#n = number of terms \n",
    "\n",
    "#returns the sum up to the nth term of the term of an arithmetic series\n",
    "def sum_up_to_n(n, u_1, u_n):\n",
    "    return n/2*(u_1 + u_n) #fill in the formula above for sum up to n \n",
    "\n",
    "sum_n = sum_up_to_n(22, -3, 81)\n",
    "print(sum_n)"
   ]
  },
  {
   "cell_type": "markdown",
   "metadata": {},
   "source": [
    "<div style=\"background-color: #BCDBF5 ; padding: 10px;\">\n",
    "<h2>Instructions:</h2>\n",
    "\n",
    "<ol>\n",
    " <li>This cell bellow contains a python function to output an arithmetic series up to the nth term.  Run the cell to see the output of calling the function with d = 1/2, u_1 = 3, and n = 6.</li>\n",
    "  <li>After you see the output go back to the example and change the parameters to output d = 1/3, u_1 = 1, and n = 10.  Run the cell again and see how the output changes.</li>\n",
    "    <li>One difference to note between this function and the previous functions is the use of a <b>for loop</b> which will execute the block of code following it n times.</li>\n",
    "</ol>\n",
    "\n",
    "</div>"
   ]
  },
  {
   "cell_type": "code",
   "execution_count": 12,
   "metadata": {},
   "outputs": [
    {
     "name": "stdout",
     "output_type": "stream",
     "text": [
      "3.0 3.5 4.0 4.5 5.0 5.5 "
     ]
    }
   ],
   "source": [
    "#prints arithmetic sequence up to the nth term \n",
    "#d = common difference \n",
    "#u_1 = first term in series\n",
    "#n = number of terms \n",
    "def output_arth_seq_up_to(d, u_1, n):\n",
    "    for i in range(1, n+1):\n",
    "        print (u_1 + (i-1)*d, end= \" \")\n",
    "\n",
    "output_arth_seq_up_to(1/2,3,6)"
   ]
  },
  {
   "cell_type": "markdown",
   "metadata": {},
   "source": [
    "## Geometric Sequences"
   ]
  },
  {
   "cell_type": "code",
   "execution_count": 13,
   "metadata": {},
   "outputs": [
    {
     "name": "stdout",
     "output_type": "stream",
     "text": [
      "2 6 18 54 162 "
     ]
    }
   ],
   "source": [
    "#u_1 = first term in sequence\n",
    "# r = common ratio\n",
    "# n = number of terms  \n",
    "\n",
    "\n",
    "\n",
    "#prints geometric sequence up to the nth term \n",
    "def output_geo_seq_up_to(u_1, r, n):\n",
    "    #this for loop will run from 1 to n (meaning we will print the 1st-nth term in the sequence)\n",
    "    for i in range(1, n+1):\n",
    "        print (u_1 * r ** (i-1) , end= \" \")\n",
    "\n",
    "output_geo_seq_up_to(2, 3, 5)"
   ]
  },
  {
   "cell_type": "code",
   "execution_count": 14,
   "metadata": {},
   "outputs": [
    {
     "name": "stdout",
     "output_type": "stream",
     "text": [
      "162\n"
     ]
    }
   ],
   "source": [
    "#returns the nth term in a geometric series        \n",
    "def nth_term_geo_sequence(u_1, r, n):\n",
    "    return u_1 * r **(n-1)\n",
    "\n",
    "s_n = nth_term_geo_sequence(2, 3, 5)\n",
    "print(s_n)\n"
   ]
  },
  {
   "cell_type": "code",
   "execution_count": 15,
   "metadata": {},
   "outputs": [
    {
     "name": "stdout",
     "output_type": "stream",
     "text": [
      "8.999847584209723\n",
      "9.0\n"
     ]
    }
   ],
   "source": [
    "\n",
    "#returns the sum of a geometric sequence up to the nth term \n",
    "def sum_up_to_n_geo(u_1, r, n):\n",
    "    return (u_1* (r**n-1)) / (r - 1)\n",
    "\n",
    "s_n = sum_up_to_n_geo(6, 1/3, 10)\n",
    "print (s_n)\n",
    "print(round(s_n, 0)) "
   ]
  },
  {
   "cell_type": "code",
   "execution_count": 16,
   "metadata": {},
   "outputs": [
    {
     "name": "stdout",
     "output_type": "stream",
     "text": [
      "8.999847584209723\n"
     ]
    }
   ],
   "source": [
    "#u_1 = first term \n",
    "#u_n = last term \n",
    "#n = number of terms \n",
    "\n",
    "#\n",
    "def sum_up_to_n_geo(u_1, r, n):\n",
    "    return (u_1 * (1- r**n)) / (1 - r)\n",
    "\n",
    "\n",
    "s_n = sum_up_to_n_geo(6, 1/3, 10)\n",
    "print(s_n)"
   ]
  },
  {
   "cell_type": "markdown",
   "metadata": {},
   "source": [
    "## Currency Conversions \n",
    "Example 13: Zoran wants to change 200 Singapore dollars (SGD) to euros.  The exchange rate is 1SGD = 0.588 euros. The bank charges 2% commission.  Calculate how many euros Zoran receives.  \n",
    " "
   ]
  },
  {
   "cell_type": "code",
   "execution_count": 17,
   "metadata": {},
   "outputs": [
    {
     "name": "stdout",
     "output_type": "stream",
     "text": [
      "Commission: 4 SGD\n",
      "The amount to convert after commission: 196SGD to euros\n",
      "Zoran receives 115.25 euros\n"
     ]
    }
   ],
   "source": [
    "def convert_currency_bank_buying(exchange_rate, amount):\n",
    "    return exchange_rate * amount\n",
    "\n",
    "def calc_commission(commission_rate, amount):\n",
    "    return commission_rate * amount\n",
    "\n",
    "amount = 200\n",
    "commision = .02\n",
    "exchange_rate = 0.588\n",
    "\n",
    "commission = calc_commission(.02, 200)\n",
    "print (\"Commission: %d SGD\" % commission)\n",
    "amount_to_change = amount - commission \n",
    "print (\"The amount to convert after commission: %dSGD to euros\" % amount_to_change)\n",
    "converted_amount = convert_currency_bank_buying(exchange_rate, amount_to_change)\n",
    "\n",
    "print (\"Zoran receives %.2f euros\"% converted_amount)"
   ]
  },
  {
   "cell_type": "code",
   "execution_count": 18,
   "metadata": {},
   "outputs": [],
   "source": [
    "def convert_currency_bank_selling(exchange_rate, amount):\n",
    "    return amount / exchange_rate"
   ]
  },
  {
   "cell_type": "markdown",
   "metadata": {},
   "source": [
    "## Compound Interest \n"
   ]
  },
  {
   "cell_type": "code",
   "execution_count": 19,
   "metadata": {},
   "outputs": [
    {
     "name": "stdout",
     "output_type": "stream",
     "text": [
      "8211.41\n"
     ]
    }
   ],
   "source": [
    "#pv = present value\n",
    "#r = rate \n",
    "#n = number of years\n",
    "#k = number of compounding periods per year\n",
    "def calc_future_value(pv, r, n, k):\n",
    "    return pv * (1 + r/(k*100))**(n*k)\n",
    "    \n",
    "fv = calc_future_value(6000, 4, 8, 1)\n",
    "print (round(fv, 2))\n"
   ]
  },
  {
   "cell_type": "code",
   "execution_count": 20,
   "metadata": {},
   "outputs": [],
   "source": [
    "#"
   ]
  }
 ],
 "metadata": {
  "kernelspec": {
   "display_name": "Python 3",
   "language": "python",
   "name": "python3"
  },
  "language_info": {
   "codemirror_mode": {
    "name": "ipython",
    "version": 3
   },
   "file_extension": ".py",
   "mimetype": "text/x-python",
   "name": "python",
   "nbconvert_exporter": "python",
   "pygments_lexer": "ipython3",
   "version": "3.6.2"
  }
 },
 "nbformat": 4,
 "nbformat_minor": 4
}
