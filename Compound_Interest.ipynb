{
 "cells": [
  {
   "cell_type": "markdown",
   "metadata": {},
   "source": [
    "## Compound Interest \n"
   ]
  },
  {
   "cell_type": "code",
   "execution_count": 13,
   "metadata": {},
   "outputs": [
    {
     "name": "stdout",
     "output_type": "stream",
     "text": [
      "8211.41\n"
     ]
    }
   ],
   "source": [
    "#pv = present value\n",
    "#r = rate \n",
    "#n = number of years\n",
    "#k = number of compounding periods per year\n",
    "def calc_future_value(pv, r, n, k):\n",
    "    return pv * (1 + r/(k*100))**(n*k)\n",
    "    \n",
    "fv = calc_future_value(6000, 4, 8, 1)\n",
    "print (round(fv, 2))\n"
   ]
  },
  {
   "cell_type": "code",
   "execution_count": null,
   "metadata": {},
   "outputs": [],
   "source": []
  }
 ],
 "metadata": {
  "kernelspec": {
   "display_name": "Python 3",
   "language": "python",
   "name": "python3"
  },
  "language_info": {
   "codemirror_mode": {
    "name": "ipython",
    "version": 3
   },
   "file_extension": ".py",
   "mimetype": "text/x-python",
   "name": "python",
   "nbconvert_exporter": "python",
   "pygments_lexer": "ipython3",
   "version": "3.6.2"
  }
 },
 "nbformat": 4,
 "nbformat_minor": 2
}
