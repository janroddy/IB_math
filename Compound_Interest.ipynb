{
 "cells": [
  {
   "cell_type": "markdown",
   "metadata": {},
   "source": [
    "<h1 style= padding:10px>Compound Interest</h1>\n",
    "\t\t\t\t\t\n",
    "<h3>The formula for calculating the future value of an investment with compound interest is: </h3>\n",
    "\t$FV = PV\\left( 1 + \\frac{r}{k(100)} \\right)^{kn} $      \n",
    "    \n",
    "<p>where FV is the future value, PV is the present value, r is the rate, n is the number of years an k is the number of compounding periods per year.  </p>    "
   ]
  },
  {
   "cell_type": "markdown",
   "metadata": {},
   "source": [
    "<p><b>Problem: </b>Petra invests 6000 Costa Rican colons (CRC) in a bank offering 4% interest compounded annually.</p>"
   ]
  },
  {
   "cell_type": "markdown",
   "metadata": {},
   "source": [
    "<div style=\"background-color: #BCDBF5 ; padding: 10px;\">\n",
    "<h2>Instructions:</h2>\n",
    "\n",
    "<ol>\n",
    " <li>Using the formula above finish the function to calculate future value on line 6.</li>\n",
    " <li>Make a function call to calc_future_value on line 8 to solve the problem above.</li>\n",
    "</ol>\n",
    "\n",
    "</div>\n",
    "<table align=\"left\">\n",
    "  <tr>\n",
    "    <th>Operator</th>\n",
    "    <th>Python Operator</th>\n",
    "    <th>Example</th>\n",
    "  </tr>\n",
    "  <tr>\n",
    "    <td>Addition</td>\n",
    "    <td>+</td>\n",
    "    <td>8 + 8 =16</td>\n",
    "  </tr>\n",
    "  <tr>\n",
    "    <td>Subtraction</td>\n",
    "    <td>-</td>\n",
    "    <td>10 - 5 = 5</td>\n",
    "  </tr>\n",
    "  <tr>\n",
    "    <td>Multiplication</td>\n",
    "    <td>*</td>\n",
    "    <td>8 * 8 = 64</td>\n",
    "  </tr>\n",
    "  <tr>\n",
    "    <td>Division</td>\n",
    "    <td>/</td>\n",
    "    <td>8 / 2 = 2</td>\n",
    "  </tr>\n",
    "  <tr>\n",
    "    <td>Exponent</td>\n",
    "    <td>**</td>\n",
    "    <td>4**2 = 16</td>  \n",
    "  </tr>\n",
    "</table>"
   ]
  },
  {
   "cell_type": "code",
   "execution_count": 13,
   "metadata": {},
   "outputs": [
    {
     "name": "stdout",
     "output_type": "stream",
     "text": [
      "8211.41\n"
     ]
    }
   ],
   "source": [
    "#pv = present value\n",
    "#r = rate \n",
    "#n = number of years\n",
    "#k = number of compounding periods per year\n",
    "def calc_future_value(pv, r, n, k):\n",
    "    return \n",
    "    \n",
    "fv = \n",
    "print (\"Petra will have {}\" .formatround(fv, 2))\n"
   ]
  },
  {
   "cell_type": "code",
   "execution_count": null,
   "metadata": {},
   "outputs": [],
   "source": []
  }
 ],
 "metadata": {
  "kernelspec": {
   "display_name": "Python 3",
   "language": "python",
   "name": "python3"
  },
  "language_info": {
   "codemirror_mode": {
    "name": "ipython",
    "version": 3
   },
   "file_extension": ".py",
   "mimetype": "text/x-python",
   "name": "python",
   "nbconvert_exporter": "python",
   "pygments_lexer": "ipython3",
   "version": "3.6.2"
  }
 },
 "nbformat": 4,
 "nbformat_minor": 2
}
